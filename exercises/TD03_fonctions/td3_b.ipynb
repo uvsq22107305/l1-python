{
 "cells": [
  {
   "cell_type": "code",
   "execution_count": 7,
   "metadata": {},
   "outputs": [
    {
     "name": "stdout",
     "output_type": "stream",
     "text": [
      "<class 'tuple'>\n",
      "974046\n",
      "342094\n"
     ]
    }
   ],
   "source": [
    "#temps[0] : jours, temps[1]: heures, temps[2]: minutes, temps[3]: secondes\n",
    "\n",
    "def tempsEnSeconde(temps):\n",
    "    \"\"\" Renvoie la valeur en seconde de temps donné comme jour, heure, minute, seconde.\"\"\"\n",
    "    \n",
    "    return temps[0]*24*3600 + temps [1]*3600 + temps[2]*60 + temps [3]\n",
    "\n",
    "mon_temps = (3,23,1,34)\n",
    "print(type(mon_temps))\n",
    "print(tempsEnSeconde((9, 54, 34, 6))) \n",
    "\n",
    "b= tempsEnSeconde(mon_temps)\n",
    "\n",
    "print (b)"
   ]
  },
  {
   "cell_type": "code",
   "execution_count": 1,
   "metadata": {},
   "outputs": [
    {
     "name": "stdout",
     "output_type": "stream",
     "text": [
      "(2712, 7, 5, 52)\n"
     ]
    }
   ],
   "source": [
    "\n",
    "def secondeEnTemps(seconde):\n",
    "    \"\"\"Renvoie le temps (jour, heure, minute, seconde) qui correspond au nombre de seconde passé en argument\"\"\"\n",
    "    jour= seconde // 86400 \n",
    "    seconde = seconde % 86400\n",
    "\n",
    "    heure  = seconde // 3600\n",
    "    seconde = seconde % 3600\n",
    "\n",
    "    minutes = seconde // 60\n",
    "    seconde = seconde % 60\n",
    "    return  (jour, heure, minutes, seconde)\n",
    "\n",
    "t = 234342352\n",
    "\n",
    "print (secondeEnTemps(t))\n",
    "\n",
    "\n"
   ]
  },
  {
   "cell_type": "markdown",
   "metadata": {},
   "source": [
    "Créer une fonction d'affichage d'un temps `afficheTemps`. Attention, les mots jour, heure et seconde doivent être au pluriel s'il y en a plusieurs. S'il y en a zéro, ils ne doivent pas apparaître.\n",
    "`print(message, end=\"\")` permet de ne pas sauter une ligne après un print. \n",
    "Vous pouvez écrire une fonction qui affiche un mot au pluriel ou non, appelée ensuite plusieurs fois par `afficheTemps` pour simplifier votre code.\n"
   ]
  },
  {
   "cell_type": "code",
   "execution_count": 7,
   "metadata": {},
   "outputs": [
    {
     "name": "stdout",
     "output_type": "stream",
     "text": [
      "  2 jours  1 heure  14 minutes  23 secondes"
     ]
    }
   ],
   "source": [
    "#fonction auxiliaire ici\n",
    "def affichagepluriel(val,mot) :\n",
    "   if val != 0 :\n",
    "        print (\" \",val, mot, end = \"\")   \n",
    "   if val > 1 :\n",
    "        print(\"s\", end = \"\")    \n",
    "\n",
    "     \n",
    "\n",
    "def afficheTemps(temps):\n",
    "    affichagepluriel(temps[0], \"jour\")\n",
    "    affichagepluriel(temps[1], \"heure\")\n",
    "    affichagepluriel(temps[2], \"minute\")\n",
    "    affichagepluriel(temps[3],\"seconde\")\n",
    "    \n",
    "\n",
    "    \n",
    "afficheTemps((2,1,14,23)) "
   ]
  },
  {
   "cell_type": "markdown",
   "metadata": {},
   "source": [
    "Ecrire une fonction qui demande à l'utilisateur de rentrer un nombre de jours, d'heures, de minutes et\n",
    "de secondes et qui renvoie un temps. Attention, si l'entrée utilisateur n'est pas correcte, par exemple 80 minutes,\n",
    "afficher un message d'erreur et s'arrêter.\n",
    "\n",
    "(Optionnel) Au lieu d'arêter le programme, demander de rentrer une nouvelle valeur, tant que \n",
    "ce n'est pas une valeur correcte.\n",
    "\n"
   ]
  },
  {
   "cell_type": "code",
   "execution_count": 101,
   "metadata": {},
   "outputs": [
    {
     "name": "stdout",
     "output_type": "stream",
     "text": [
      "3 3\n"
     ]
    }
   ],
   "source": [
    "def demandeTemps():\n",
    "    jour = int((input(\"Entrée le nombre de jour\")))\n",
    "    \n",
    "    heures = int((input(\"Entrée le nombre d'heures\")))\n",
    "    minutes = int((input(\"Entrée le nombre de minutes\")))\n",
    "    secondes = int((input(\"Entrée le nombre de secondes\")))\n",
    "\n",
    "    if secondes > 59 or minutes > 59 or heures >  23 :\n",
    "        print (\"Erreur\")\n",
    "        return (0,0,0,0)\n",
    "\n",
    "    return (jour, heures, minutes, secondes )\n",
    "\n",
    "afficheTemps(demandeTemps())"
   ]
  },
  {
   "cell_type": "markdown",
   "metadata": {},
   "source": [
    "On veut être capable d'additionner deux temps. Donner une fonction qui fait ce calcul,\n",
    "en utilisant les fonctions précédentes."
   ]
  },
  {
   "cell_type": "code",
   "execution_count": 1,
   "metadata": {},
   "outputs": [
    {
     "name": "stdout",
     "output_type": "stream",
     "text": [
      "<class 'tuple'>\n",
      "974046\n",
      "342094\n"
     ]
    }
   ],
   "source": [
    "\n",
    "def tempsEnSeconde(temps):\n",
    "    \"\"\" Renvoie la valeur en seconde de temps donné comme jour, heure, minute, seconde.\"\"\"\n",
    "    \n",
    "    return temps[0]*24*3600 + temps [1]*3600 + temps[2]*60 + temps [3]\n",
    "\n",
    "mon_temps = (3,23,1,34)\n",
    "print(type(mon_temps))\n",
    "print(tempsEnSeconde((9, 54, 34, 6))) \n",
    "\n",
    "b= tempsEnSeconde(mon_temps)\n",
    "\n",
    "print (b)"
   ]
  },
  {
   "cell_type": "code",
   "execution_count": 16,
   "metadata": {},
   "outputs": [
    {
     "ename": "NameError",
     "evalue": "name 'afficheTemps' is not defined",
     "output_type": "error",
     "traceback": [
      "\u001b[1;31m---------------------------------------------------------------------------\u001b[0m",
      "\u001b[1;31mNameError\u001b[0m                                 Traceback (most recent call last)",
      "\u001b[1;32m~\\AppData\\Local\\Temp/ipykernel_12528/2830806698.py\u001b[0m in \u001b[0;36m<module>\u001b[1;34m\u001b[0m\n\u001b[0;32m      9\u001b[0m \u001b[1;33m\u001b[0m\u001b[0m\n\u001b[0;32m     10\u001b[0m \u001b[1;33m\u001b[0m\u001b[0m\n\u001b[1;32m---> 11\u001b[1;33m \u001b[0mafficheTemps\u001b[0m\u001b[1;33m(\u001b[0m\u001b[0msommeTemps\u001b[0m\u001b[1;33m(\u001b[0m\u001b[1;33m)\u001b[0m\u001b[1;33m)\u001b[0m\u001b[1;33m\u001b[0m\u001b[1;33m\u001b[0m\u001b[0m\n\u001b[0m\u001b[0;32m     12\u001b[0m \u001b[1;33m\u001b[0m\u001b[0m\n\u001b[0;32m     13\u001b[0m \u001b[1;33m\u001b[0m\u001b[0m\n",
      "\u001b[1;31mNameError\u001b[0m: name 'afficheTemps' is not defined"
     ]
    }
   ],
   "source": [
    "def sommeTemps(temps1,temps2):\n",
    "\n",
    "    return temps1[0] *2 + \n",
    "    \n",
    "    \n",
    "temps1 = (2,3,4,25)\n",
    "temps2= (5,22,57,1)   \n",
    "\n",
    " \n",
    "afficheTemps(sommeTemps())\n",
    "\n",
    "    "
   ]
  }
 ],
 "metadata": {
  "interpreter": {
   "hash": "8ef8a355569f8a0465a9920fa424fa9959438993012ae9b69fe864b329f29427"
  },
  "kernelspec": {
   "display_name": "Python 3.9.7 64-bit (conda)",
   "name": "python3"
  },
  "language_info": {
   "codemirror_mode": {
    "name": "ipython",
    "version": 3
   },
   "file_extension": ".py",
   "mimetype": "text/x-python",
   "name": "python",
   "nbconvert_exporter": "python",
   "pygments_lexer": "ipython3",
   "version": "3.9.7"
  },
  "orig_nbformat": 4
 },
 "nbformat": 4,
 "nbformat_minor": 2
}
